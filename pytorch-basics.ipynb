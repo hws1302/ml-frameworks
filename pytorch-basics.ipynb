{
 "cells": [
  {
   "cell_type": "markdown",
   "id": "ba44313a",
   "metadata": {},
   "source": [
    "# `PyTorch` basics\n",
    "\n",
    "29/7/22\n",
    "\n",
    "This notebook is just working through the [Learn the basics](https://pytorch.org/tutorials/beginner/basics/intro.html) tutorial on the PyTorch website. i.e. no original work. Though I **highly recommned** carrying out this course by yourself as it is a fantastic introduction to the philosophy of `PyTorch` and you'll have trained your first network within a couple hours!"
   ]
  },
  {
   "cell_type": "code",
   "execution_count": 24,
   "id": "842ba574",
   "metadata": {},
   "outputs": [],
   "source": [
    "import torch \n",
    "import numpy as np\n",
    "\n",
    "import matplotlib.pyplot as plt"
   ]
  },
  {
   "cell_type": "markdown",
   "id": "dadcb0ff",
   "metadata": {
    "heading_collapsed": true
   },
   "source": [
    "## Tensors\n",
    "\n",
    "Like `numpy` arrays but optimised for differentiation, running on GPUs etc. "
   ]
  },
  {
   "cell_type": "code",
   "execution_count": 2,
   "id": "89493c35",
   "metadata": {
    "hidden": true
   },
   "outputs": [],
   "source": [
    "data = [\n",
    "    [1,2],\n",
    "    [3,4]\n",
    "]\n",
    "\n",
    "x_data = torch.tensor(data)"
   ]
  },
  {
   "cell_type": "code",
   "execution_count": 5,
   "id": "1de1df73",
   "metadata": {
    "hidden": true
   },
   "outputs": [
    {
     "data": {
      "text/plain": [
       "tensor([[1, 2],\n",
       "        [3, 4]])"
      ]
     },
     "execution_count": 5,
     "metadata": {},
     "output_type": "execute_result"
    }
   ],
   "source": [
    "# possible to create a tensor from np array \n",
    "np_array = np.array(data)\n",
    "\n",
    "x_np = torch.from_numpy(np_array)\n",
    "\n",
    "x_np"
   ]
  },
  {
   "cell_type": "code",
   "execution_count": 6,
   "id": "03ecbaf5",
   "metadata": {
    "hidden": true
   },
   "outputs": [
    {
     "data": {
      "text/plain": [
       "tensor([[1, 1],\n",
       "        [1, 1]])"
      ]
     },
     "execution_count": 6,
     "metadata": {},
     "output_type": "execute_result"
    }
   ],
   "source": [
    "# possible to create a tensor with the same properties e.g. \n",
    "torch.ones_like(x_data)"
   ]
  },
  {
   "cell_type": "code",
   "execution_count": 9,
   "id": "a0fb17bb",
   "metadata": {
    "hidden": true
   },
   "outputs": [
    {
     "data": {
      "text/plain": [
       "tensor([[0.9266, 0.2153, 0.7633],\n",
       "        [0.7205, 0.0686, 0.0397]])"
      ]
     },
     "execution_count": 9,
     "metadata": {},
     "output_type": "execute_result"
    }
   ],
   "source": [
    "shape = (2,3,) # why the extra comma? like numpy\n",
    "\n",
    "rand_tensor = torch.rand(shape)\n",
    "\n",
    "rand_tensor"
   ]
  },
  {
   "cell_type": "code",
   "execution_count": 11,
   "id": "cacc1e88",
   "metadata": {
    "hidden": true
   },
   "outputs": [
    {
     "data": {
      "text/plain": [
       "(torch.Size([2, 3]), torch.float32, device(type='cpu'))"
      ]
     },
     "execution_count": 11,
     "metadata": {},
     "output_type": "execute_result"
    }
   ],
   "source": [
    "# we can get attr from a tensor \n",
    "tensor = rand_tensor\n",
    "(tensor.shape, tensor.dtype, tensor.device)"
   ]
  },
  {
   "cell_type": "code",
   "execution_count": 12,
   "id": "515a4de6",
   "metadata": {
    "hidden": true
   },
   "outputs": [
    {
     "data": {
      "text/plain": [
       "False"
      ]
     },
     "execution_count": 12,
     "metadata": {},
     "output_type": "execute_result"
    }
   ],
   "source": [
    "# no dedicated graphics is available here \n",
    "torch.cuda.is_available()"
   ]
  },
  {
   "cell_type": "markdown",
   "id": "ecf36bb8",
   "metadata": {
    "hidden": true
   },
   "source": [
    "note that the indexing, slicing etc. is the same as `numpy`"
   ]
  },
  {
   "cell_type": "code",
   "execution_count": 15,
   "id": "defdbbb2",
   "metadata": {
    "hidden": true
   },
   "outputs": [
    {
     "data": {
      "text/plain": [
       "tensor(2.7340)"
      ]
     },
     "execution_count": 15,
     "metadata": {},
     "output_type": "execute_result"
    }
   ],
   "source": [
    "# matrix mult \n",
    "tensor @ tensor.T\n",
    "# element-wise product \n",
    "tensor * tensor \n",
    "# sum up elements\n",
    "tensor_sum = tensor.sum()\n",
    "tensor_sum"
   ]
  },
  {
   "cell_type": "code",
   "execution_count": 17,
   "id": "724f597d",
   "metadata": {
    "hidden": true
   },
   "outputs": [
    {
     "data": {
      "text/plain": [
       "2.7339863777160645"
      ]
     },
     "execution_count": 17,
     "metadata": {},
     "output_type": "execute_result"
    }
   ],
   "source": [
    "# can then change back to a python type\n",
    "tensor_sum.item()"
   ]
  },
  {
   "cell_type": "code",
   "execution_count": 20,
   "id": "65aeb7f1",
   "metadata": {
    "hidden": true
   },
   "outputs": [
    {
     "name": "stdout",
     "output_type": "stream",
     "text": [
      "tensor([[10.9266, 10.2153, 10.7633],\n",
      "        [10.7205, 10.0686, 10.0397]])\n",
      "\n",
      "\n",
      "tensor([[15.9266, 15.2153, 15.7633],\n",
      "        [15.7205, 15.0686, 15.0397]])\n"
     ]
    }
   ],
   "source": [
    "# inplace ops denoted by '_' i.e. this stays in stores the results to the tensor e.g. \n",
    "print(tensor)\n",
    "print('\\n')\n",
    "tensor.add_(5)\n",
    "print(tensor)"
   ]
  },
  {
   "cell_type": "markdown",
   "id": "7fbf9cd1",
   "metadata": {
    "heading_collapsed": true
   },
   "source": [
    "## Datasets & Dataloaders\n",
    "\n",
    "two options:\n",
    "- `torch.utils.data.Dataset` which stores samples and their labels \n",
    "- `torch.utils.data.DataLoader` wraps an iterable over `Dataset` for easy access\n",
    "\n",
    "Here is an example with the 'Fashion MNIST' dataset which is images from an online shoppping store"
   ]
  },
  {
   "cell_type": "code",
   "execution_count": 89,
   "id": "ee73e86f",
   "metadata": {
    "hidden": true
   },
   "outputs": [],
   "source": [
    "from torch.utils.data import Dataset, DataLoader\n",
    "from torchvision import datasets\n",
    "from torchvision.transforms import ToTensor "
   ]
  },
  {
   "cell_type": "code",
   "execution_count": 22,
   "id": "fe8f7f06",
   "metadata": {
    "hidden": true
   },
   "outputs": [
    {
     "name": "stdout",
     "output_type": "stream",
     "text": [
      "Downloading http://fashion-mnist.s3-website.eu-central-1.amazonaws.com/train-images-idx3-ubyte.gz\n",
      "Downloading http://fashion-mnist.s3-website.eu-central-1.amazonaws.com/train-images-idx3-ubyte.gz to data/FashionMNIST/raw/train-images-idx3-ubyte.gz\n"
     ]
    },
    {
     "data": {
      "application/vnd.jupyter.widget-view+json": {
       "model_id": "c1975fccbee942e0be35576a9834f129",
       "version_major": 2,
       "version_minor": 0
      },
      "text/plain": [
       "  0%|          | 0/26421880 [00:00<?, ?it/s]"
      ]
     },
     "metadata": {},
     "output_type": "display_data"
    },
    {
     "name": "stdout",
     "output_type": "stream",
     "text": [
      "Extracting data/FashionMNIST/raw/train-images-idx3-ubyte.gz to data/FashionMNIST/raw\n",
      "\n",
      "Downloading http://fashion-mnist.s3-website.eu-central-1.amazonaws.com/train-labels-idx1-ubyte.gz\n",
      "Downloading http://fashion-mnist.s3-website.eu-central-1.amazonaws.com/train-labels-idx1-ubyte.gz to data/FashionMNIST/raw/train-labels-idx1-ubyte.gz\n"
     ]
    },
    {
     "data": {
      "application/vnd.jupyter.widget-view+json": {
       "model_id": "4e01b558935c4e1da41be759cbeb94c4",
       "version_major": 2,
       "version_minor": 0
      },
      "text/plain": [
       "  0%|          | 0/29515 [00:00<?, ?it/s]"
      ]
     },
     "metadata": {},
     "output_type": "display_data"
    },
    {
     "name": "stdout",
     "output_type": "stream",
     "text": [
      "Extracting data/FashionMNIST/raw/train-labels-idx1-ubyte.gz to data/FashionMNIST/raw\n",
      "\n",
      "Downloading http://fashion-mnist.s3-website.eu-central-1.amazonaws.com/t10k-images-idx3-ubyte.gz\n",
      "Downloading http://fashion-mnist.s3-website.eu-central-1.amazonaws.com/t10k-images-idx3-ubyte.gz to data/FashionMNIST/raw/t10k-images-idx3-ubyte.gz\n"
     ]
    },
    {
     "data": {
      "application/vnd.jupyter.widget-view+json": {
       "model_id": "105f934e16e04f75b480622345ee2661",
       "version_major": 2,
       "version_minor": 0
      },
      "text/plain": [
       "  0%|          | 0/4422102 [00:00<?, ?it/s]"
      ]
     },
     "metadata": {},
     "output_type": "display_data"
    },
    {
     "name": "stdout",
     "output_type": "stream",
     "text": [
      "Extracting data/FashionMNIST/raw/t10k-images-idx3-ubyte.gz to data/FashionMNIST/raw\n",
      "\n",
      "Downloading http://fashion-mnist.s3-website.eu-central-1.amazonaws.com/t10k-labels-idx1-ubyte.gz\n",
      "Downloading http://fashion-mnist.s3-website.eu-central-1.amazonaws.com/t10k-labels-idx1-ubyte.gz to data/FashionMNIST/raw/t10k-labels-idx1-ubyte.gz\n"
     ]
    },
    {
     "data": {
      "application/vnd.jupyter.widget-view+json": {
       "model_id": "a7d9bbf73b5c4c5592f98d5f4e318149",
       "version_major": 2,
       "version_minor": 0
      },
      "text/plain": [
       "  0%|          | 0/5148 [00:00<?, ?it/s]"
      ]
     },
     "metadata": {},
     "output_type": "display_data"
    },
    {
     "name": "stdout",
     "output_type": "stream",
     "text": [
      "Extracting data/FashionMNIST/raw/t10k-labels-idx1-ubyte.gz to data/FashionMNIST/raw\n",
      "\n"
     ]
    }
   ],
   "source": [
    "training_data = datasets.FashionMNIST(\n",
    "    root = 'data', \n",
    "    train = True, \n",
    "    download = True, \n",
    "    transform = ToTensor()\n",
    ")\n",
    "\n",
    "test_data = datasets.FashionMNIST(\n",
    "    root = 'data', \n",
    "    train = False, \n",
    "    download = True, \n",
    "    transform = ToTensor()\n",
    ")"
   ]
  },
  {
   "cell_type": "code",
   "execution_count": 26,
   "id": "ad1502cc",
   "metadata": {
    "hidden": true
   },
   "outputs": [
    {
     "data": {
      "image/png": "[encoded data removed]",
      "text/plain": [
       "<Figure size 576x576 with 9 Axes>"
      ]
     },
     "metadata": {
      "needs_background": "light"
     },
     "output_type": "display_data"
    }
   ],
   "source": [
    "# example of some of the photos loading in \n",
    "labels_map = {\n",
    "    0: \"T-Shirt\",\n",
    "    1: \"Trouser\",\n",
    "    2: \"Pullover\",\n",
    "    3: \"Dress\",\n",
    "    4: \"Coat\",\n",
    "    5: \"Sandal\",\n",
    "    6: \"Shirt\",\n",
    "    7: \"Sneaker\",\n",
    "    8: \"Bag\",\n",
    "    9: \"Ankle Boot\",\n",
    "}\n",
    "figure = plt.figure(figsize=(8, 8))\n",
    "cols, rows = 3, 3\n",
    "for i in range(1, cols * rows + 1):\n",
    "    sample_idx = torch.randint(len(training_data), size=(1,)).item()\n",
    "    img, label = training_data[sample_idx]\n",
    "    figure.add_subplot(rows, cols, i)\n",
    "    plt.title(labels_map[label])\n",
    "    plt.axis(\"off\")\n",
    "    plt.imshow(img.squeeze(), cmap=\"gray\")\n",
    "plt.show()"
   ]
  },
  {
   "cell_type": "markdown",
   "id": "cc432cb0",
   "metadata": {
    "hidden": true
   },
   "source": [
    "It is also fairly easy to load in your own data too by making a class for it"
   ]
  },
  {
   "cell_type": "markdown",
   "id": "0a6adc1d",
   "metadata": {
    "heading_collapsed": true
   },
   "source": [
    "## Transforms\n",
    "\n",
    "transforms are used to manipulate data so it is suitable for training. Again using the 'Fashion MNIST' dataset but now loading with the dataset with the `target_transform` param"
   ]
  },
  {
   "cell_type": "code",
   "execution_count": 30,
   "id": "2609a849",
   "metadata": {
    "hidden": true
   },
   "outputs": [],
   "source": [
    "from torchvision.transforms import Lambda\n",
    "\n",
    "training_data = datasets.FashionMNIST(\n",
    "    root = 'data', \n",
    "    train = True, \n",
    "    download = True, \n",
    "    transform = ToTensor(), \n",
    "    target_transform = Lambda( \\ # Lambda just applies a lambda transform to some data\n",
    "        lambda y: torch.zeros(10,dtype=torch.float).scatter( \\\n",
    "        0, torch.tensor(y), value=1))\n",
    ")\n",
    "# transform turns the image into a normalised FloatTensor\n",
    "# target transform turns the label 0..9 to a one-hot encoded tensor "
   ]
  },
  {
   "cell_type": "markdown",
   "id": "2924b5e7",
   "metadata": {
    "heading_collapsed": true
   },
   "source": [
    "## Building a neural network \n",
    "\n",
    "using `torch.nn`"
   ]
  },
  {
   "cell_type": "code",
   "execution_count": 35,
   "id": "fb5b44e3",
   "metadata": {
    "hidden": true
   },
   "outputs": [],
   "source": [
    "from torch import nn"
   ]
  },
  {
   "cell_type": "code",
   "execution_count": 64,
   "id": "0b6c7ee2",
   "metadata": {
    "hidden": true
   },
   "outputs": [],
   "source": [
    "# all nn classes are subclasses of `nn.Module` \n",
    "class NeuralNetwork(nn.Module):\n",
    "    def __init__(self):\n",
    "        super(NeuralNetwork, self).__init__()\n",
    "        # flatten 28x28 image in to 784 long tensor\n",
    "        self.flatten = nn.Flatten()\n",
    "        \n",
    "        # indicates to sequentially apply these layers \n",
    "        self.linear_relu_stack = nn.Sequential(\n",
    "            nn.Linear(28*28, 512), # correct input dims \n",
    "            nn.ReLU(), # activation func. \n",
    "            nn.Linear(512, 512), # must match output dims of prev layer\n",
    "            nn.ReLU(), # activation func. \n",
    "            nn.Linear(512, 10), # must mtch output dims of prev layer\n",
    "        )                       # output must be same as the number of categories \n",
    "\n",
    "    # feed forward but running the sequential network defined above\n",
    "    def forward(self, x):\n",
    "        x = self.flatten(x)\n",
    "        logits = self.linear_relu_stack(x)\n",
    "        return logits"
   ]
  },
  {
   "cell_type": "code",
   "execution_count": 65,
   "id": "053ffa53",
   "metadata": {
    "hidden": true
   },
   "outputs": [
    {
     "name": "stdout",
     "output_type": "stream",
     "text": [
      "NeuralNetwork(\n",
      "  (flatten): Flatten(start_dim=1, end_dim=-1)\n",
      "  (linear_relu_stack): Sequential(\n",
      "    (0): Linear(in_features=784, out_features=512, bias=True)\n",
      "    (1): ReLU()\n",
      "    (2): Linear(in_features=512, out_features=512, bias=True)\n",
      "    (3): ReLU()\n",
      "    (4): Linear(in_features=512, out_features=10, bias=True)\n",
      "  )\n",
      ")\n"
     ]
    }
   ],
   "source": [
    "# move the model to the correct device\n",
    "device = 'cude' if torch.cuda.is_available() else 'cpu'\n",
    "model = NeuralNetwork().to(device)\n",
    "print(model)"
   ]
  },
  {
   "cell_type": "code",
   "execution_count": 66,
   "id": "bd347312",
   "metadata": {
    "hidden": true
   },
   "outputs": [
    {
     "name": "stdout",
     "output_type": "stream",
     "text": [
      "tensor([6])\n"
     ]
    }
   ],
   "source": [
    "# get some data and put it on our device\n",
    "X = torch.rand(1,28,28, device=device)\n",
    "\n",
    "# get the output (this calls the feedforward method)\n",
    "logits = model(X)\n",
    "\n",
    "# use the softmax to get a normalised probablilities\n",
    "pred_probab = nn.Softmax(dim=1)(logits)\n",
    "\n",
    "# take the maximum prediction as our probablility\n",
    "# dim is the dimension along which they must sum to 1 \n",
    "y_pred = pred_probab.argmax(1)\n",
    "print(y_pred)"
   ]
  },
  {
   "cell_type": "code",
   "execution_count": 71,
   "id": "05c04420",
   "metadata": {
    "hidden": true
   },
   "outputs": [
    {
     "name": "stdout",
     "output_type": "stream",
     "text": [
      "Model structure: NeuralNetwork(\n",
      "  (flatten): Flatten(start_dim=1, end_dim=-1)\n",
      "  (linear_relu_stack): Sequential(\n",
      "    (0): Linear(in_features=784, out_features=512, bias=True)\n",
      "    (1): ReLU()\n",
      "    (2): Linear(in_features=512, out_features=512, bias=True)\n",
      "    (3): ReLU()\n",
      "    (4): Linear(in_features=512, out_features=10, bias=True)\n",
      "  )\n",
      ")\n",
      "\n",
      "\n",
      "Layer: linear_relu_stack.0.weight Size: torch.Size([512, 784]) Values: tensor([[ 0.0208,  0.0196, -0.0198,  ...,  0.0235,  0.0162, -0.0154],\n",
      "        [-0.0146,  0.0345, -0.0272,  ...,  0.0086, -0.0291, -0.0116]],\n",
      "       grad_fn=<SliceBackward0>)\n",
      "Layer: linear_relu_stack.0.bias Size: torch.Size([512]) Values: tensor([-0.0273,  0.0100], grad_fn=<SliceBackward0>)\n",
      "Layer: linear_relu_stack.2.weight Size: torch.Size([512, 512]) Values: tensor([[ 0.0159, -0.0260, -0.0437,  ..., -0.0296,  0.0197,  0.0351],\n",
      "        [-0.0264,  0.0182,  0.0182,  ...,  0.0374, -0.0138,  0.0354]],\n",
      "       grad_fn=<SliceBackward0>)\n",
      "Layer: linear_relu_stack.2.bias Size: torch.Size([512]) Values: tensor([-0.0169, -0.0226], grad_fn=<SliceBackward0>)\n",
      "Layer: linear_relu_stack.4.weight Size: torch.Size([10, 512]) Values: tensor([[-0.0111,  0.0166, -0.0418,  ...,  0.0254,  0.0322, -0.0182],\n",
      "        [-0.0038, -0.0236,  0.0036,  ...,  0.0149, -0.0115,  0.0063]],\n",
      "       grad_fn=<SliceBackward0>)\n",
      "Layer: linear_relu_stack.4.bias Size: torch.Size([10]) Values: tensor([ 0.0015, -0.0282], grad_fn=<SliceBackward0>)\n"
     ]
    }
   ],
   "source": [
    "print(f'Model structure: {model}\\n\\n')\n",
    "\n",
    "for name, param in model.named_parameters():\n",
    "    \n",
    "    print(f'Layer: {name} Size: {param.size()} Values: {param[:2]}')"
   ]
  },
  {
   "cell_type": "markdown",
   "id": "d7426b8a",
   "metadata": {
    "heading_collapsed": true
   },
   "source": [
    "## `torch.autograd`\n",
    "\n",
    "now things get cool... automatic backprop"
   ]
  },
  {
   "cell_type": "code",
   "execution_count": 72,
   "id": "3ef5e670",
   "metadata": {
    "hidden": true
   },
   "outputs": [],
   "source": [
    "x = torch.ones(5)  # input tensor\n",
    "y = torch.zeros(3)  # expected output\n",
    "w = torch.randn(5, 3, requires_grad=True)\n",
    "b = torch.randn(3, requires_grad=True)\n",
    "z = torch.matmul(x, w)+b\n",
    "loss = torch.nn.functional.binary_cross_entropy_with_logits(z, y)"
   ]
  },
  {
   "cell_type": "code",
   "execution_count": 73,
   "id": "bc168c40",
   "metadata": {
    "hidden": true
   },
   "outputs": [],
   "source": [
    "# ---- x ----> w.x + b ----> z \n",
    "x = torch.ones(5)  # input tensor\n",
    "y = torch.zeros(3)  # expected output\n",
    "w = torch.randn(5, 3, requires_grad=True)\n",
    "b = torch.randn(3, requires_grad=True)\n",
    "z = torch.matmul(x, w)+b\n",
    "loss = torch.nn.functional.binary_cross_entropy_with_logits(z, y)"
   ]
  },
  {
   "cell_type": "code",
   "execution_count": null,
   "id": "26a3e213",
   "metadata": {
    "hidden": true
   },
   "outputs": [],
   "source": []
  },
  {
   "cell_type": "code",
   "execution_count": 76,
   "id": "5f427ff9",
   "metadata": {
    "hidden": true
   },
   "outputs": [
    {
     "name": "stdout",
     "output_type": "stream",
     "text": [
      "<AddBackward0 object at 0x137452280>\n",
      "<BinaryCrossEntropyWithLogitsBackward0 object at 0x1374527f0>\n"
     ]
    }
   ],
   "source": [
    "print(z.grad_fn)\n",
    "print(loss.grad_fn)"
   ]
  },
  {
   "cell_type": "code",
   "execution_count": 77,
   "id": "d38e174e",
   "metadata": {
    "hidden": true
   },
   "outputs": [
    {
     "name": "stdout",
     "output_type": "stream",
     "text": [
      "tensor([[0.0008, 0.2894, 0.2991],\n",
      "        [0.0008, 0.2894, 0.2991],\n",
      "        [0.0008, 0.2894, 0.2991],\n",
      "        [0.0008, 0.2894, 0.2991],\n",
      "        [0.0008, 0.2894, 0.2991]])\n",
      "tensor([0.0008, 0.2894, 0.2991])\n"
     ]
    }
   ],
   "source": [
    "# now compute the loss with loss.backward()\n",
    "loss.backward()\n",
    "print(w.grad)\n",
    "print(b.grad)"
   ]
  },
  {
   "cell_type": "code",
   "execution_count": 83,
   "id": "c7707c08",
   "metadata": {
    "hidden": true
   },
   "outputs": [
    {
     "name": "stdout",
     "output_type": "stream",
     "text": [
      "False\n",
      "False\n"
     ]
    }
   ],
   "source": [
    "# stop stop tracking grads using a few methods\n",
    "z_det = z.detach()\n",
    "print(z_det.requires_grad)\n",
    "# or\n",
    "with torch.no_grad():\n",
    "    z = torch.matmul(x, w) + b\n",
    "print(z.requires_grad)"
   ]
  },
  {
   "cell_type": "markdown",
   "id": "89f56bb9",
   "metadata": {
    "hidden": true
   },
   "source": [
    "you may want to disable parameters if you are freezing some parameters i.e. if you are finetuning a pre-trained network \n",
    "\n",
    "It also speeds up computations when you are only doing forwards passes"
   ]
  },
  {
   "cell_type": "code",
   "execution_count": 86,
   "id": "399e759b",
   "metadata": {
    "hidden": true
   },
   "outputs": [
    {
     "data": {
      "text/plain": [
       "tensor([[1., 1., 1., 1., 1.],\n",
       "        [1., 1., 1., 1., 1.],\n",
       "        [1., 1., 1., 1., 1.],\n",
       "        [1., 1., 1., 1., 1.],\n",
       "        [1., 1., 1., 1., 1.]])"
      ]
     },
     "execution_count": 86,
     "metadata": {},
     "output_type": "execute_result"
    }
   ],
   "source": [
    "torch.ones_like(inp)"
   ]
  },
  {
   "cell_type": "code",
   "execution_count": 87,
   "id": "95a2b5e9",
   "metadata": {
    "hidden": true
   },
   "outputs": [
    {
     "name": "stdout",
     "output_type": "stream",
     "text": [
      "First call\n",
      "tensor([[4., 2., 2., 2., 2.],\n",
      "        [2., 4., 2., 2., 2.],\n",
      "        [2., 2., 4., 2., 2.],\n",
      "        [2., 2., 2., 4., 2.],\n",
      "        [2., 2., 2., 2., 4.]])\n",
      "\n",
      "Second call\n",
      "tensor([[8., 4., 4., 4., 4.],\n",
      "        [4., 8., 4., 4., 4.],\n",
      "        [4., 4., 8., 4., 4.],\n",
      "        [4., 4., 4., 8., 4.],\n",
      "        [4., 4., 4., 4., 8.]])\n",
      "\n",
      "Call after zeroing gradients\n",
      "tensor([[4., 2., 2., 2., 2.],\n",
      "        [2., 4., 2., 2., 2.],\n",
      "        [2., 2., 4., 2., 2.],\n",
      "        [2., 2., 2., 4., 2.],\n",
      "        [2., 2., 2., 2., 4.]])\n"
     ]
    }
   ],
   "source": [
    "# the eye-dentity matrix\n",
    "inp = torch.eye(5, requires_grad=True) \n",
    "\n",
    "# (1+x)**2\n",
    "out = (inp+1).pow(2)\n",
    "\n",
    "# calc. grad. \n",
    "# arg of ones in same shape as ?\n",
    "out.backward(torch.ones_like(inp), retain_graph=True)\n",
    "print(f\"First call\\n{inp.grad}\")\n",
    "\n",
    "# find the grad. again\n",
    "# see from output that the grad was added again! i.e. it is accumulated!\n",
    "out.backward(torch.ones_like(inp), retain_graph=True)\n",
    "print(f\"\\nSecond call\\n{inp.grad}\")\n",
    "\n",
    "# once zero'd and grad taken it just returns to what it was in the first place\n",
    "inp.grad.zero_()\n",
    "out.backward(torch.ones_like(inp), retain_graph=True)\n",
    "print(f\"\\nCall after zeroing gradients\\n{inp.grad}\")"
   ]
  },
  {
   "cell_type": "markdown",
   "id": "4abba112",
   "metadata": {
    "heading_collapsed": true
   },
   "source": [
    "## Optimisation \n",
    "\n",
    "use SGD to optimise parameters"
   ]
  },
  {
   "cell_type": "code",
   "execution_count": 97,
   "id": "a316eed4",
   "metadata": {
    "hidden": true
   },
   "outputs": [],
   "source": [
    "# load in the data as before\n",
    "training_data = datasets.FashionMNIST(\n",
    "    root=\"data\",\n",
    "    train=True,\n",
    "    download=True,\n",
    "    transform=ToTensor()\n",
    ")\n",
    "\n",
    "test_data = datasets.FashionMNIST(\n",
    "    root=\"data\",\n",
    "    train=False,\n",
    "    download=True,\n",
    "    transform=ToTensor()\n",
    ")\n",
    "\n",
    "# use the data loader to get the batches for test and training \n",
    "train_dataloader = DataLoader(training_data, batch_size=64)\n",
    "test_dataloader = DataLoader(test_data, batch_size=64)\n",
    "\n",
    "class NeuralNetwork(nn.Module):\n",
    "    def __init__(self):\n",
    "        \n",
    "        # use initialisation of NeuralNetwork class\n",
    "        super(NeuralNetwork, self).__init__()\n",
    "        \n",
    "        # flatten the input \n",
    "        self.flatten = nn.Flatten()\n",
    "        # define structure\n",
    "        self.linear_relu_stack = nn.Sequential(\n",
    "            nn.Linear(28*28, 512),\n",
    "            nn.ReLU(),\n",
    "            nn.Linear(512, 512),\n",
    "            nn.ReLU(),\n",
    "            nn.Linear(512, 10),\n",
    "        )\n",
    "        \n",
    "    # define forward pass\n",
    "    def forward(self, x):\n",
    "        x = self.flatten(x)\n",
    "        logits = self.linear_relu_stack(x)\n",
    "        return logits\n",
    "\n",
    "# create an instance of the class\n",
    "model = NeuralNetwork()"
   ]
  },
  {
   "cell_type": "code",
   "execution_count": 98,
   "id": "de65d7cf",
   "metadata": {
    "hidden": true
   },
   "outputs": [],
   "source": [
    "# these are chosen hyperparams and can be optimised via a grid-search\n",
    "learning_rate = 1e-3\n",
    "batch_size = 64\n",
    "epochs = 5"
   ]
  },
  {
   "cell_type": "code",
   "execution_count": 99,
   "id": "cd0ebc93",
   "metadata": {
    "hidden": true
   },
   "outputs": [],
   "source": [
    "# initialize the loss function\n",
    "loss_fn = nn.CrossEntropyLoss()\n",
    "\n",
    "# initialise the optimiser\n",
    "optimizer = torch.optim.SGD(model.parameters(), lr=learning_rate)"
   ]
  },
  {
   "cell_type": "code",
   "execution_count": 100,
   "id": "961d3b9e",
   "metadata": {
    "hidden": true
   },
   "outputs": [],
   "source": [
    "# here we get a gradient for ea. batch i.e. loop over all the data once per epoch\n",
    "def train_loop(dataloader, model, loss_fn, optimizer):\n",
    "    size = len(dataloader.dataset)\n",
    "    for batch, (X, y) in enumerate(dataloader):\n",
    "        # Compute prediction and loss\n",
    "        pred = model(X)\n",
    "        loss = loss_fn(pred, y)\n",
    "\n",
    "        # Backpropagation\n",
    "        optimizer.zero_grad()\n",
    "        loss.backward()\n",
    "        optimizer.step()\n",
    "\n",
    "        if batch % 100 == 0:\n",
    "            loss, current = loss.item(), batch * len(X)\n",
    "            print(f\"loss: {loss:>7f}  [{current:>5d}/{size:>5d}]\")"
   ]
  },
  {
   "cell_type": "code",
   "execution_count": 101,
   "id": "57187626",
   "metadata": {
    "hidden": true
   },
   "outputs": [],
   "source": [
    "# now test the model via going forward \n",
    "def test_loop(dataloader, model, loss_fn):\n",
    "    size = len(dataloader.dataset)\n",
    "    num_batches = len(dataloader)\n",
    "    test_loss, correct = 0, 0\n",
    "\n",
    "    with torch.no_grad():\n",
    "        for X, y in dataloader:\n",
    "            pred = model(X)\n",
    "            test_loss += loss_fn(pred, y).item()\n",
    "            correct += (pred.argmax(1) == y).type(torch.float).sum().item()\n",
    "\n",
    "    test_loss /= num_batches\n",
    "    correct /= size\n",
    "    print(f\"Test Error: \\n Accuracy: {(100*correct):>0.1f}%, Avg loss: {test_loss:>8f} \\n\")"
   ]
  },
  {
   "cell_type": "code",
   "execution_count": 102,
   "id": "13633410",
   "metadata": {
    "hidden": true,
    "scrolled": true
   },
   "outputs": [
    {
     "name": "stdout",
     "output_type": "stream",
     "text": [
      "Epoch 1\n",
      "-------------------------------\n",
      "loss: 2.300344  [    0/60000]\n",
      "loss: 2.297369  [ 6400/60000]\n",
      "loss: 2.278675  [12800/60000]\n",
      "loss: 2.270706  [19200/60000]\n",
      "loss: 2.256630  [25600/60000]\n",
      "loss: 2.207586  [32000/60000]\n",
      "loss: 2.226221  [38400/60000]\n",
      "loss: 2.186733  [44800/60000]\n",
      "loss: 2.190598  [51200/60000]\n",
      "loss: 2.152398  [57600/60000]\n",
      "Test Error: \n",
      " Accuracy: 34.7%, Avg loss: 2.151632 \n",
      "\n",
      "Epoch 2\n",
      "-------------------------------\n",
      "loss: 2.164182  [    0/60000]\n",
      "loss: 2.159115  [ 6400/60000]\n",
      "loss: 2.103575  [12800/60000]\n",
      "loss: 2.121792  [19200/60000]\n",
      "loss: 2.062730  [25600/60000]\n",
      "loss: 1.993672  [32000/60000]\n",
      "loss: 2.027059  [38400/60000]\n",
      "loss: 1.947025  [44800/60000]\n",
      "loss: 1.962007  [51200/60000]\n",
      "loss: 1.878268  [57600/60000]\n",
      "Test Error: \n",
      " Accuracy: 58.6%, Avg loss: 1.880725 \n",
      "\n",
      "Epoch 3\n",
      "-------------------------------\n",
      "loss: 1.915229  [    0/60000]\n",
      "loss: 1.885717  [ 6400/60000]\n",
      "loss: 1.772597  [12800/60000]\n",
      "loss: 1.820922  [19200/60000]\n",
      "loss: 1.694139  [25600/60000]\n",
      "loss: 1.642138  [32000/60000]\n",
      "loss: 1.668250  [38400/60000]\n",
      "loss: 1.571389  [44800/60000]\n",
      "loss: 1.598177  [51200/60000]\n",
      "loss: 1.488908  [57600/60000]\n",
      "Test Error: \n",
      " Accuracy: 61.5%, Avg loss: 1.507365 \n",
      "\n",
      "Epoch 4\n",
      "-------------------------------\n",
      "loss: 1.572559  [    0/60000]\n",
      "loss: 1.540007  [ 6400/60000]\n",
      "loss: 1.392906  [12800/60000]\n",
      "loss: 1.474423  [19200/60000]\n",
      "loss: 1.341197  [25600/60000]\n",
      "loss: 1.334483  [32000/60000]\n",
      "loss: 1.353762  [38400/60000]\n",
      "loss: 1.283198  [44800/60000]\n",
      "loss: 1.311078  [51200/60000]\n",
      "loss: 1.215185  [57600/60000]\n",
      "Test Error: \n",
      " Accuracy: 63.6%, Avg loss: 1.238099 \n",
      "\n",
      "Epoch 5\n",
      "-------------------------------\n",
      "loss: 1.310965  [    0/60000]\n",
      "loss: 1.299402  [ 6400/60000]\n",
      "loss: 1.134543  [12800/60000]\n",
      "loss: 1.251324  [19200/60000]\n",
      "loss: 1.113797  [25600/60000]\n",
      "loss: 1.133881  [32000/60000]\n",
      "loss: 1.161519  [38400/60000]\n",
      "loss: 1.105688  [44800/60000]\n",
      "loss: 1.133907  [51200/60000]\n",
      "loss: 1.056750  [57600/60000]\n",
      "Test Error: \n",
      " Accuracy: 65.0%, Avg loss: 1.073784 \n",
      "\n",
      "Epoch 6\n",
      "-------------------------------\n",
      "loss: 1.139590  [    0/60000]\n",
      "loss: 1.150053  [ 6400/60000]\n",
      "loss: 0.969631  [12800/60000]\n",
      "loss: 1.114108  [19200/60000]\n",
      "loss: 0.977141  [25600/60000]\n",
      "loss: 1.001926  [32000/60000]\n",
      "loss: 1.044180  [38400/60000]\n",
      "loss: 0.994322  [44800/60000]\n",
      "loss: 1.020334  [51200/60000]\n",
      "loss: 0.958612  [57600/60000]\n",
      "Test Error: \n",
      " Accuracy: 66.3%, Avg loss: 0.969496 \n",
      "\n",
      "Epoch 7\n",
      "-------------------------------\n",
      "loss: 1.022630  [    0/60000]\n",
      "loss: 1.053944  [ 6400/60000]\n",
      "loss: 0.858502  [12800/60000]\n",
      "loss: 1.023294  [19200/60000]\n",
      "loss: 0.891991  [25600/60000]\n",
      "loss: 0.910950  [32000/60000]\n",
      "loss: 0.967660  [38400/60000]\n",
      "loss: 0.921593  [44800/60000]\n",
      "loss: 0.942212  [51200/60000]\n",
      "loss: 0.892946  [57600/60000]\n",
      "Test Error: \n",
      " Accuracy: 67.6%, Avg loss: 0.898918 \n",
      "\n",
      "Epoch 8\n",
      "-------------------------------\n",
      "loss: 0.936841  [    0/60000]\n",
      "loss: 0.987078  [ 6400/60000]\n",
      "loss: 0.779329  [12800/60000]\n",
      "loss: 0.959145  [19200/60000]\n",
      "loss: 0.834850  [25600/60000]\n",
      "loss: 0.845446  [32000/60000]\n",
      "loss: 0.913764  [38400/60000]\n",
      "loss: 0.872061  [44800/60000]\n",
      "loss: 0.885652  [51200/60000]\n",
      "loss: 0.845305  [57600/60000]\n",
      "Test Error: \n",
      " Accuracy: 68.9%, Avg loss: 0.848165 \n",
      "\n",
      "Epoch 9\n",
      "-------------------------------\n",
      "loss: 0.870247  [    0/60000]\n",
      "loss: 0.936633  [ 6400/60000]\n",
      "loss: 0.720120  [12800/60000]\n",
      "loss: 0.911330  [19200/60000]\n",
      "loss: 0.793750  [25600/60000]\n",
      "loss: 0.796907  [32000/60000]\n",
      "loss: 0.872684  [38400/60000]\n",
      "loss: 0.836865  [44800/60000]\n",
      "loss: 0.843071  [51200/60000]\n",
      "loss: 0.808280  [57600/60000]\n",
      "Test Error: \n",
      " Accuracy: 70.0%, Avg loss: 0.809683 \n",
      "\n",
      "Epoch 10\n",
      "-------------------------------\n",
      "loss: 0.816852  [    0/60000]\n",
      "loss: 0.895961  [ 6400/60000]\n",
      "loss: 0.674099  [12800/60000]\n",
      "loss: 0.874504  [19200/60000]\n",
      "loss: 0.762469  [25600/60000]\n",
      "loss: 0.759914  [32000/60000]\n",
      "loss: 0.839078  [38400/60000]\n",
      "loss: 0.810358  [44800/60000]\n",
      "loss: 0.809832  [51200/60000]\n",
      "loss: 0.778489  [57600/60000]\n",
      "Test Error: \n",
      " Accuracy: 71.5%, Avg loss: 0.778981 \n",
      "\n",
      "Done!\n"
     ]
    }
   ],
   "source": [
    "epochs = 10\n",
    "for t in range(epochs):\n",
    "    print(f\"Epoch {t+1}\\n-------------------------------\")\n",
    "    train_loop(train_dataloader, model, loss_fn, optimizer)\n",
    "    test_loop(test_dataloader, model, loss_fn)\n",
    "print(\"Done!\")"
   ]
  },
  {
   "cell_type": "code",
   "execution_count": null,
   "id": "ec81a6d1",
   "metadata": {
    "hidden": true
   },
   "outputs": [],
   "source": []
  }
 ],
 "metadata": {
  "kernelspec": {
   "display_name": "Python 3 (ipykernel)",
   "language": "python",
   "name": "python3"
  },
  "language_info": {
   "codemirror_mode": {
    "name": "ipython",
    "version": 3
   },
   "file_extension": ".py",
   "mimetype": "text/x-python",
   "name": "python",
   "nbconvert_exporter": "python",
   "pygments_lexer": "ipython3",
   "version": "3.9.6"
  },
  "varInspector": {
   "cols": {
    "lenName": 16,
    "lenType": 16,
    "lenVar": 40
   },
   "kernels_config": {
    "python": {
     "delete_cmd_postfix": "",
     "delete_cmd_prefix": "del ",
     "library": "var_list.py",
     "varRefreshCmd": "print(var_dic_list())"
    },
    "r": {
     "delete_cmd_postfix": ") ",
     "delete_cmd_prefix": "rm(",
     "library": "var_list.r",
     "varRefreshCmd": "cat(var_dic_list()) "
    }
   },
   "types_to_exclude": [
    "module",
    "function",
    "builtin_function_or_method",
    "instance",
    "_Feature"
   ],
   "window_display": false
  }
 },
 "nbformat": 4,
 "nbformat_minor": 5
}
